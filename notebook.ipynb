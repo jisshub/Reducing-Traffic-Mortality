{
 "cells": [
  {
   "cell_type": "markdown",
   "metadata": {},
   "source": [
    "# Reducing Traffic Mortality"
   ]
  },
  {
   "cell_type": "markdown",
   "metadata": {},
   "source": [
    "## Import Libraries"
   ]
  },
  {
   "cell_type": "code",
   "execution_count": 1,
   "metadata": {},
   "outputs": [],
   "source": [
    "import numpy as np\n",
    "import pandas as pd\n",
    "import matplotlib.pyplot as plt\n",
    "import seaborn as sns"
   ]
  },
  {
   "cell_type": "markdown",
   "metadata": {},
   "source": [
    "## Import Dataset"
   ]
  },
  {
   "cell_type": "code",
   "execution_count": 2,
   "metadata": {},
   "outputs": [
    {
     "data": {
      "text/html": [
       "<div>\n",
       "<style scoped>\n",
       "    .dataframe tbody tr th:only-of-type {\n",
       "        vertical-align: middle;\n",
       "    }\n",
       "\n",
       "    .dataframe tbody tr th {\n",
       "        vertical-align: top;\n",
       "    }\n",
       "\n",
       "    .dataframe thead th {\n",
       "        text-align: right;\n",
       "    }\n",
       "</style>\n",
       "<table border=\"1\" class=\"dataframe\">\n",
       "  <thead>\n",
       "    <tr style=\"text-align: right;\">\n",
       "      <th></th>\n",
       "      <th>state</th>\n",
       "      <th>drvr_fatl_col_bmiles</th>\n",
       "      <th>perc_fatl_speed</th>\n",
       "      <th>perc_fatl_alcohol</th>\n",
       "      <th>perc_fatl_1st_time</th>\n",
       "    </tr>\n",
       "  </thead>\n",
       "  <tbody>\n",
       "    <tr>\n",
       "      <th>0</th>\n",
       "      <td>Alabama</td>\n",
       "      <td>18.8</td>\n",
       "      <td>39</td>\n",
       "      <td>30</td>\n",
       "      <td>80</td>\n",
       "    </tr>\n",
       "    <tr>\n",
       "      <th>1</th>\n",
       "      <td>Alaska</td>\n",
       "      <td>18.1</td>\n",
       "      <td>41</td>\n",
       "      <td>25</td>\n",
       "      <td>94</td>\n",
       "    </tr>\n",
       "    <tr>\n",
       "      <th>2</th>\n",
       "      <td>Arizona</td>\n",
       "      <td>18.6</td>\n",
       "      <td>35</td>\n",
       "      <td>28</td>\n",
       "      <td>96</td>\n",
       "    </tr>\n",
       "    <tr>\n",
       "      <th>3</th>\n",
       "      <td>Arkansas</td>\n",
       "      <td>22.4</td>\n",
       "      <td>18</td>\n",
       "      <td>26</td>\n",
       "      <td>95</td>\n",
       "    </tr>\n",
       "    <tr>\n",
       "      <th>4</th>\n",
       "      <td>California</td>\n",
       "      <td>12.0</td>\n",
       "      <td>35</td>\n",
       "      <td>28</td>\n",
       "      <td>89</td>\n",
       "    </tr>\n",
       "  </tbody>\n",
       "</table>\n",
       "</div>"
      ],
      "text/plain": [
       "        state  drvr_fatl_col_bmiles  perc_fatl_speed  perc_fatl_alcohol  \\\n",
       "0     Alabama                  18.8               39                 30   \n",
       "1      Alaska                  18.1               41                 25   \n",
       "2     Arizona                  18.6               35                 28   \n",
       "3    Arkansas                  22.4               18                 26   \n",
       "4  California                  12.0               35                 28   \n",
       "\n",
       "   perc_fatl_1st_time  \n",
       "0                  80  \n",
       "1                  94  \n",
       "2                  96  \n",
       "3                  95  \n",
       "4                  89  "
      ]
     },
     "execution_count": 2,
     "metadata": {},
     "output_type": "execute_result"
    }
   ],
   "source": [
    "accidents_df = pd.read_csv('./datasets/road-accidents.csv', header=9, delimiter='|')\n",
    "accidents_df.head()"
   ]
  },
  {
   "cell_type": "code",
   "execution_count": 3,
   "metadata": {},
   "outputs": [
    {
     "name": "stdout",
     "output_type": "stream",
     "text": [
      "<class 'pandas.core.frame.DataFrame'>\n",
      "RangeIndex: 51 entries, 0 to 50\n",
      "Data columns (total 5 columns):\n",
      " #   Column                Non-Null Count  Dtype  \n",
      "---  ------                --------------  -----  \n",
      " 0   state                 51 non-null     object \n",
      " 1   drvr_fatl_col_bmiles  51 non-null     float64\n",
      " 2   perc_fatl_speed       51 non-null     int64  \n",
      " 3   perc_fatl_alcohol     51 non-null     int64  \n",
      " 4   perc_fatl_1st_time    51 non-null     int64  \n",
      "dtypes: float64(1), int64(3), object(1)\n",
      "memory usage: 2.1+ KB\n"
     ]
    }
   ],
   "source": [
    "accidents_df.info()"
   ]
  },
  {
   "cell_type": "code",
   "execution_count": 4,
   "metadata": {},
   "outputs": [
    {
     "name": "stdout",
     "output_type": "stream",
     "text": [
      "Number of rows: 51\n",
      "Number of columns: 5\n"
     ]
    }
   ],
   "source": [
    "rows, columns = accidents_df.shape\n",
    "print(f'Number of rows: {rows}')\n",
    "print(f'Number of columns: {columns}')"
   ]
  },
  {
   "cell_type": "markdown",
   "metadata": {},
   "source": [
    "**Inference:**\n",
    "\n",
    "There are 51 rows and 5 column in the dataset. No nulls values present in the dataset."
   ]
  },
  {
   "cell_type": "markdown",
   "metadata": {},
   "source": [
    "## Create a textual and a graphical summary of the data"
   ]
  },
  {
   "cell_type": "code",
   "execution_count": 5,
   "metadata": {},
   "outputs": [
    {
     "data": {
      "text/html": [
       "<div>\n",
       "<style scoped>\n",
       "    .dataframe tbody tr th:only-of-type {\n",
       "        vertical-align: middle;\n",
       "    }\n",
       "\n",
       "    .dataframe tbody tr th {\n",
       "        vertical-align: top;\n",
       "    }\n",
       "\n",
       "    .dataframe thead th {\n",
       "        text-align: right;\n",
       "    }\n",
       "</style>\n",
       "<table border=\"1\" class=\"dataframe\">\n",
       "  <thead>\n",
       "    <tr style=\"text-align: right;\">\n",
       "      <th></th>\n",
       "      <th>drvr_fatl_col_bmiles</th>\n",
       "      <th>perc_fatl_speed</th>\n",
       "      <th>perc_fatl_alcohol</th>\n",
       "      <th>perc_fatl_1st_time</th>\n",
       "    </tr>\n",
       "  </thead>\n",
       "  <tbody>\n",
       "    <tr>\n",
       "      <th>count</th>\n",
       "      <td>51.000000</td>\n",
       "      <td>51.000000</td>\n",
       "      <td>51.000000</td>\n",
       "      <td>51.00000</td>\n",
       "    </tr>\n",
       "    <tr>\n",
       "      <th>mean</th>\n",
       "      <td>15.790196</td>\n",
       "      <td>31.725490</td>\n",
       "      <td>30.686275</td>\n",
       "      <td>88.72549</td>\n",
       "    </tr>\n",
       "    <tr>\n",
       "      <th>std</th>\n",
       "      <td>4.122002</td>\n",
       "      <td>9.633438</td>\n",
       "      <td>5.132213</td>\n",
       "      <td>6.96011</td>\n",
       "    </tr>\n",
       "    <tr>\n",
       "      <th>min</th>\n",
       "      <td>5.900000</td>\n",
       "      <td>13.000000</td>\n",
       "      <td>16.000000</td>\n",
       "      <td>76.00000</td>\n",
       "    </tr>\n",
       "    <tr>\n",
       "      <th>25%</th>\n",
       "      <td>12.750000</td>\n",
       "      <td>23.000000</td>\n",
       "      <td>28.000000</td>\n",
       "      <td>83.50000</td>\n",
       "    </tr>\n",
       "    <tr>\n",
       "      <th>50%</th>\n",
       "      <td>15.600000</td>\n",
       "      <td>34.000000</td>\n",
       "      <td>30.000000</td>\n",
       "      <td>88.00000</td>\n",
       "    </tr>\n",
       "    <tr>\n",
       "      <th>75%</th>\n",
       "      <td>18.500000</td>\n",
       "      <td>38.000000</td>\n",
       "      <td>33.000000</td>\n",
       "      <td>95.00000</td>\n",
       "    </tr>\n",
       "    <tr>\n",
       "      <th>max</th>\n",
       "      <td>23.900000</td>\n",
       "      <td>54.000000</td>\n",
       "      <td>44.000000</td>\n",
       "      <td>100.00000</td>\n",
       "    </tr>\n",
       "  </tbody>\n",
       "</table>\n",
       "</div>"
      ],
      "text/plain": [
       "       drvr_fatl_col_bmiles  perc_fatl_speed  perc_fatl_alcohol  \\\n",
       "count             51.000000        51.000000          51.000000   \n",
       "mean              15.790196        31.725490          30.686275   \n",
       "std                4.122002         9.633438           5.132213   \n",
       "min                5.900000        13.000000          16.000000   \n",
       "25%               12.750000        23.000000          28.000000   \n",
       "50%               15.600000        34.000000          30.000000   \n",
       "75%               18.500000        38.000000          33.000000   \n",
       "max               23.900000        54.000000          44.000000   \n",
       "\n",
       "       perc_fatl_1st_time  \n",
       "count            51.00000  \n",
       "mean             88.72549  \n",
       "std               6.96011  \n",
       "min              76.00000  \n",
       "25%              83.50000  \n",
       "50%              88.00000  \n",
       "75%              95.00000  \n",
       "max             100.00000  "
      ]
     },
     "execution_count": 5,
     "metadata": {},
     "output_type": "execute_result"
    }
   ],
   "source": [
    "accidents_df.describe()"
   ]
  },
  {
   "cell_type": "code",
   "execution_count": 6,
   "metadata": {},
   "outputs": [
    {
     "data": {
      "text/plain": [
       "<seaborn.axisgrid.PairGrid at 0x17f41d8bd00>"
      ]
     },
     "execution_count": 6,
     "metadata": {},
     "output_type": "execute_result"
    },
    {
     "data": {
      "text/plain": [
       "<Figure size 1080x576 with 0 Axes>"
      ]
     },
     "metadata": {},
     "output_type": "display_data"
    },
    {
     "data": {
      "image/png": "[encoded data removed]",
      "text/plain": [
       "<Figure size 720x720 with 20 Axes>"
      ]
     },
     "metadata": {
      "needs_background": "light"
     },
     "output_type": "display_data"
    }
   ],
   "source": [
    "plt.figure(figsize=(15, 8))\n",
    "sns.pairplot(accidents_df)"
   ]
  },
  {
   "cell_type": "markdown",
   "metadata": {},
   "source": [
    "**Inference:**\n",
    "\n",
    "All the features in the dataset are compared with one another. We can here observe that none of the feature is correlated with any other feature. Data points are either scattered across the plot or they are going in inverse direction because of weak correlation.\n"
   ]
  },
  {
   "cell_type": "markdown",
   "metadata": {},
   "source": [
    "## Quantify the association of features and accidents"
   ]
  },
  {
   "cell_type": "markdown",
   "metadata": {},
   "source": [
    "<b>Correlation Matrix</b>"
   ]
  },
  {
   "cell_type": "code",
   "execution_count": 7,
   "metadata": {},
   "outputs": [
    {
     "data": {
      "text/html": [
       "<div>\n",
       "<style scoped>\n",
       "    .dataframe tbody tr th:only-of-type {\n",
       "        vertical-align: middle;\n",
       "    }\n",
       "\n",
       "    .dataframe tbody tr th {\n",
       "        vertical-align: top;\n",
       "    }\n",
       "\n",
       "    .dataframe thead th {\n",
       "        text-align: right;\n",
       "    }\n",
       "</style>\n",
       "<table border=\"1\" class=\"dataframe\">\n",
       "  <thead>\n",
       "    <tr style=\"text-align: right;\">\n",
       "      <th></th>\n",
       "      <th>drvr_fatl_col_bmiles</th>\n",
       "      <th>perc_fatl_speed</th>\n",
       "      <th>perc_fatl_alcohol</th>\n",
       "      <th>perc_fatl_1st_time</th>\n",
       "    </tr>\n",
       "  </thead>\n",
       "  <tbody>\n",
       "    <tr>\n",
       "      <th>drvr_fatl_col_bmiles</th>\n",
       "      <td>1.000000</td>\n",
       "      <td>-0.029080</td>\n",
       "      <td>0.199426</td>\n",
       "      <td>-0.017942</td>\n",
       "    </tr>\n",
       "    <tr>\n",
       "      <th>perc_fatl_speed</th>\n",
       "      <td>-0.029080</td>\n",
       "      <td>1.000000</td>\n",
       "      <td>0.286244</td>\n",
       "      <td>0.014066</td>\n",
       "    </tr>\n",
       "    <tr>\n",
       "      <th>perc_fatl_alcohol</th>\n",
       "      <td>0.199426</td>\n",
       "      <td>0.286244</td>\n",
       "      <td>1.000000</td>\n",
       "      <td>-0.245455</td>\n",
       "    </tr>\n",
       "    <tr>\n",
       "      <th>perc_fatl_1st_time</th>\n",
       "      <td>-0.017942</td>\n",
       "      <td>0.014066</td>\n",
       "      <td>-0.245455</td>\n",
       "      <td>1.000000</td>\n",
       "    </tr>\n",
       "  </tbody>\n",
       "</table>\n",
       "</div>"
      ],
      "text/plain": [
       "                      drvr_fatl_col_bmiles  perc_fatl_speed  \\\n",
       "drvr_fatl_col_bmiles              1.000000        -0.029080   \n",
       "perc_fatl_speed                  -0.029080         1.000000   \n",
       "perc_fatl_alcohol                 0.199426         0.286244   \n",
       "perc_fatl_1st_time               -0.017942         0.014066   \n",
       "\n",
       "                      perc_fatl_alcohol  perc_fatl_1st_time  \n",
       "drvr_fatl_col_bmiles           0.199426           -0.017942  \n",
       "perc_fatl_speed                0.286244            0.014066  \n",
       "perc_fatl_alcohol              1.000000           -0.245455  \n",
       "perc_fatl_1st_time            -0.245455            1.000000  "
      ]
     },
     "execution_count": 7,
     "metadata": {},
     "output_type": "execute_result"
    }
   ],
   "source": [
    "matrix = accidents_df.corr()\n",
    "matrix"
   ]
  },
  {
   "cell_type": "code",
   "execution_count": 8,
   "metadata": {},
   "outputs": [
    {
     "data": {
      "image/png": "[encoded data removed]",
      "text/plain": [
       "<Figure size 1080x576 with 2 Axes>"
      ]
     },
     "metadata": {},
     "output_type": "display_data"
    }
   ],
   "source": [
    "sns.set(rc = {'figure.figsize':(15,8)})\n",
    "sns.heatmap(matrix, annot=True, cmap='Blues')\n",
    "plt.show()"
   ]
  },
  {
   "cell_type": "markdown",
   "metadata": {},
   "source": [
    "**Inference**\n",
    "\n",
    "- There is no positive correlation between any of the features.\n",
    "- The correlation between **drvr_fatl_col_bmiles** and **perc_fatl_1st_time** is -0.018, which indicates that they’re weakly negatively correlated. \n",
    "- The correlation between **perc_fatl_speed** and **perc_fatl_1st_time** is 0.014, which indicates that they’re basically not correlated. There is very little association between the 2 features.\n",
    "- Correlation coefficients along the diagonal of the table are all equal to 1 because each variable is perfectly correlated with itself.\n"
   ]
  },
  {
   "cell_type": "markdown",
   "metadata": {},
   "source": [
    "## Fit a multivariate linear regression"
   ]
  },
  {
   "cell_type": "code",
   "execution_count": 9,
   "metadata": {},
   "outputs": [],
   "source": [
    "from sklearn.linear_model import LinearRegression"
   ]
  },
  {
   "cell_type": "code",
   "execution_count": 10,
   "metadata": {},
   "outputs": [],
   "source": [
    "linear_regression = LinearRegression()"
   ]
  },
  {
   "cell_type": "markdown",
   "metadata": {},
   "source": [
    "<b>Divide into dependent & independent features<b>"
   ]
  },
  {
   "cell_type": "code",
   "execution_count": 11,
   "metadata": {},
   "outputs": [
    {
     "data": {
      "text/html": [
       "<div>\n",
       "<style scoped>\n",
       "    .dataframe tbody tr th:only-of-type {\n",
       "        vertical-align: middle;\n",
       "    }\n",
       "\n",
       "    .dataframe tbody tr th {\n",
       "        vertical-align: top;\n",
       "    }\n",
       "\n",
       "    .dataframe thead th {\n",
       "        text-align: right;\n",
       "    }\n",
       "</style>\n",
       "<table border=\"1\" class=\"dataframe\">\n",
       "  <thead>\n",
       "    <tr style=\"text-align: right;\">\n",
       "      <th></th>\n",
       "      <th>state</th>\n",
       "      <th>drvr_fatl_col_bmiles</th>\n",
       "      <th>perc_fatl_speed</th>\n",
       "      <th>perc_fatl_alcohol</th>\n",
       "      <th>perc_fatl_1st_time</th>\n",
       "    </tr>\n",
       "  </thead>\n",
       "  <tbody>\n",
       "    <tr>\n",
       "      <th>0</th>\n",
       "      <td>Alabama</td>\n",
       "      <td>18.8</td>\n",
       "      <td>39</td>\n",
       "      <td>30</td>\n",
       "      <td>80</td>\n",
       "    </tr>\n",
       "    <tr>\n",
       "      <th>1</th>\n",
       "      <td>Alaska</td>\n",
       "      <td>18.1</td>\n",
       "      <td>41</td>\n",
       "      <td>25</td>\n",
       "      <td>94</td>\n",
       "    </tr>\n",
       "    <tr>\n",
       "      <th>2</th>\n",
       "      <td>Arizona</td>\n",
       "      <td>18.6</td>\n",
       "      <td>35</td>\n",
       "      <td>28</td>\n",
       "      <td>96</td>\n",
       "    </tr>\n",
       "    <tr>\n",
       "      <th>3</th>\n",
       "      <td>Arkansas</td>\n",
       "      <td>22.4</td>\n",
       "      <td>18</td>\n",
       "      <td>26</td>\n",
       "      <td>95</td>\n",
       "    </tr>\n",
       "    <tr>\n",
       "      <th>4</th>\n",
       "      <td>California</td>\n",
       "      <td>12.0</td>\n",
       "      <td>35</td>\n",
       "      <td>28</td>\n",
       "      <td>89</td>\n",
       "    </tr>\n",
       "  </tbody>\n",
       "</table>\n",
       "</div>"
      ],
      "text/plain": [
       "        state  drvr_fatl_col_bmiles  perc_fatl_speed  perc_fatl_alcohol  \\\n",
       "0     Alabama                  18.8               39                 30   \n",
       "1      Alaska                  18.1               41                 25   \n",
       "2     Arizona                  18.6               35                 28   \n",
       "3    Arkansas                  22.4               18                 26   \n",
       "4  California                  12.0               35                 28   \n",
       "\n",
       "   perc_fatl_1st_time  \n",
       "0                  80  \n",
       "1                  94  \n",
       "2                  96  \n",
       "3                  95  \n",
       "4                  89  "
      ]
     },
     "execution_count": 11,
     "metadata": {},
     "output_type": "execute_result"
    }
   ],
   "source": [
    "accidents_df.head()"
   ]
  },
  {
   "cell_type": "code",
   "execution_count": 12,
   "metadata": {},
   "outputs": [],
   "source": [
    "X = accidents_df.iloc[:, 2:5]\n",
    "y = accidents_df['drvr_fatl_col_bmiles']"
   ]
  },
  {
   "cell_type": "code",
   "execution_count": 13,
   "metadata": {},
   "outputs": [
    {
     "data": {
      "text/html": [
       "<div>\n",
       "<style scoped>\n",
       "    .dataframe tbody tr th:only-of-type {\n",
       "        vertical-align: middle;\n",
       "    }\n",
       "\n",
       "    .dataframe tbody tr th {\n",
       "        vertical-align: top;\n",
       "    }\n",
       "\n",
       "    .dataframe thead th {\n",
       "        text-align: right;\n",
       "    }\n",
       "</style>\n",
       "<table border=\"1\" class=\"dataframe\">\n",
       "  <thead>\n",
       "    <tr style=\"text-align: right;\">\n",
       "      <th></th>\n",
       "      <th>perc_fatl_speed</th>\n",
       "      <th>perc_fatl_alcohol</th>\n",
       "      <th>perc_fatl_1st_time</th>\n",
       "    </tr>\n",
       "  </thead>\n",
       "  <tbody>\n",
       "    <tr>\n",
       "      <th>0</th>\n",
       "      <td>39</td>\n",
       "      <td>30</td>\n",
       "      <td>80</td>\n",
       "    </tr>\n",
       "    <tr>\n",
       "      <th>1</th>\n",
       "      <td>41</td>\n",
       "      <td>25</td>\n",
       "      <td>94</td>\n",
       "    </tr>\n",
       "    <tr>\n",
       "      <th>2</th>\n",
       "      <td>35</td>\n",
       "      <td>28</td>\n",
       "      <td>96</td>\n",
       "    </tr>\n",
       "    <tr>\n",
       "      <th>3</th>\n",
       "      <td>18</td>\n",
       "      <td>26</td>\n",
       "      <td>95</td>\n",
       "    </tr>\n",
       "    <tr>\n",
       "      <th>4</th>\n",
       "      <td>35</td>\n",
       "      <td>28</td>\n",
       "      <td>89</td>\n",
       "    </tr>\n",
       "  </tbody>\n",
       "</table>\n",
       "</div>"
      ],
      "text/plain": [
       "   perc_fatl_speed  perc_fatl_alcohol  perc_fatl_1st_time\n",
       "0               39                 30                  80\n",
       "1               41                 25                  94\n",
       "2               35                 28                  96\n",
       "3               18                 26                  95\n",
       "4               35                 28                  89"
      ]
     },
     "execution_count": 13,
     "metadata": {},
     "output_type": "execute_result"
    }
   ],
   "source": [
    "X.head()"
   ]
  },
  {
   "cell_type": "code",
   "execution_count": 14,
   "metadata": {},
   "outputs": [
    {
     "data": {
      "text/plain": [
       "0    18.8\n",
       "1    18.1\n",
       "2    18.6\n",
       "3    22.4\n",
       "4    12.0\n",
       "Name: drvr_fatl_col_bmiles, dtype: float64"
      ]
     },
     "execution_count": 14,
     "metadata": {},
     "output_type": "execute_result"
    }
   ],
   "source": [
    "y.head()"
   ]
  },
  {
   "cell_type": "markdown",
   "metadata": {},
   "source": [
    "<b>Split data to training and test set<b>"
   ]
  },
  {
   "cell_type": "code",
   "execution_count": 15,
   "metadata": {},
   "outputs": [],
   "source": [
    "from sklearn.model_selection import train_test_split"
   ]
  },
  {
   "cell_type": "code",
   "execution_count": 16,
   "metadata": {},
   "outputs": [],
   "source": [
    "X_train, X_test, y_train, y_test = train_test_split(X, y, test_size=0.2, random_state=0)"
   ]
  },
  {
   "cell_type": "code",
   "execution_count": 17,
   "metadata": {},
   "outputs": [
    {
     "data": {
      "text/html": [
       "<div>\n",
       "<style scoped>\n",
       "    .dataframe tbody tr th:only-of-type {\n",
       "        vertical-align: middle;\n",
       "    }\n",
       "\n",
       "    .dataframe tbody tr th {\n",
       "        vertical-align: top;\n",
       "    }\n",
       "\n",
       "    .dataframe thead th {\n",
       "        text-align: right;\n",
       "    }\n",
       "</style>\n",
       "<table border=\"1\" class=\"dataframe\">\n",
       "  <thead>\n",
       "    <tr style=\"text-align: right;\">\n",
       "      <th></th>\n",
       "      <th>perc_fatl_speed</th>\n",
       "      <th>perc_fatl_alcohol</th>\n",
       "      <th>perc_fatl_1st_time</th>\n",
       "    </tr>\n",
       "  </thead>\n",
       "  <tbody>\n",
       "    <tr>\n",
       "      <th>41</th>\n",
       "      <td>31</td>\n",
       "      <td>33</td>\n",
       "      <td>86</td>\n",
       "    </tr>\n",
       "    <tr>\n",
       "      <th>27</th>\n",
       "      <td>13</td>\n",
       "      <td>35</td>\n",
       "      <td>90</td>\n",
       "    </tr>\n",
       "    <tr>\n",
       "      <th>35</th>\n",
       "      <td>28</td>\n",
       "      <td>34</td>\n",
       "      <td>82</td>\n",
       "    </tr>\n",
       "    <tr>\n",
       "      <th>34</th>\n",
       "      <td>23</td>\n",
       "      <td>42</td>\n",
       "      <td>86</td>\n",
       "    </tr>\n",
       "    <tr>\n",
       "      <th>7</th>\n",
       "      <td>38</td>\n",
       "      <td>30</td>\n",
       "      <td>99</td>\n",
       "    </tr>\n",
       "  </tbody>\n",
       "</table>\n",
       "</div>"
      ],
      "text/plain": [
       "    perc_fatl_speed  perc_fatl_alcohol  perc_fatl_1st_time\n",
       "41               31                 33                  86\n",
       "27               13                 35                  90\n",
       "35               28                 34                  82\n",
       "34               23                 42                  86\n",
       "7                38                 30                  99"
      ]
     },
     "execution_count": 17,
     "metadata": {},
     "output_type": "execute_result"
    }
   ],
   "source": [
    "X_train.head()"
   ]
  },
  {
   "cell_type": "code",
   "execution_count": 18,
   "metadata": {},
   "outputs": [
    {
     "data": {
      "text/plain": [
       "29    11.6\n",
       "11    17.5\n",
       "10    15.6\n",
       "22    14.1\n",
       "2     18.6\n",
       "Name: drvr_fatl_col_bmiles, dtype: float64"
      ]
     },
     "execution_count": 18,
     "metadata": {},
     "output_type": "execute_result"
    }
   ],
   "source": [
    "y_test.head()"
   ]
  },
  {
   "cell_type": "markdown",
   "metadata": {},
   "source": [
    "<b>Fit the training set to LinearRegression model<b>"
   ]
  },
  {
   "cell_type": "code",
   "execution_count": 19,
   "metadata": {},
   "outputs": [
    {
     "data": {
      "text/plain": [
       "LinearRegression()"
      ]
     },
     "execution_count": 19,
     "metadata": {},
     "output_type": "execute_result"
    }
   ],
   "source": [
    "linear_reg = linear_regression.fit(X_train, y_train)\n",
    "linear_reg"
   ]
  },
  {
   "cell_type": "markdown",
   "metadata": {},
   "source": [
    "<b>Prediction<b>"
   ]
  },
  {
   "cell_type": "code",
   "execution_count": 20,
   "metadata": {},
   "outputs": [
    {
     "data": {
      "text/plain": [
       "array([15.73925232, 16.12193976, 15.80236078, 16.05287496, 15.40292435,\n",
       "       15.75123639, 15.86813342, 15.78319857, 17.16238394, 15.45941962,\n",
       "       15.6905138 ])"
      ]
     },
     "execution_count": 20,
     "metadata": {},
     "output_type": "execute_result"
    }
   ],
   "source": [
    "prediction=linear_reg.predict(X_test)\n",
    "prediction"
   ]
  },
  {
   "cell_type": "markdown",
   "metadata": {},
   "source": [
    "<b>Compare predicted results with real result<b>"
   ]
  },
  {
   "cell_type": "code",
   "execution_count": 21,
   "metadata": {},
   "outputs": [],
   "source": [
    "from sklearn.metrics import r2_score"
   ]
  },
  {
   "cell_type": "code",
   "execution_count": 22,
   "metadata": {},
   "outputs": [],
   "source": [
    "score = r2_score(y_test, prediction)"
   ]
  },
  {
   "cell_type": "code",
   "execution_count": 23,
   "metadata": {},
   "outputs": [
    {
     "data": {
      "text/plain": [
       "0.11654346208632727"
      ]
     },
     "execution_count": 23,
     "metadata": {},
     "output_type": "execute_result"
    }
   ],
   "source": [
    "score"
   ]
  },
  {
   "cell_type": "markdown",
   "metadata": {},
   "source": [
    "**Inference**\n",
    "\n",
    "Output is 0.116 which is far away from the value 1. It is nearer to zero. It means model built using LinearRegression is not good."
   ]
  },
  {
   "cell_type": "markdown",
   "metadata": {},
   "source": [
    "## Perform PCA on standardized data"
   ]
  },
  {
   "cell_type": "markdown",
   "metadata": {},
   "source": [
    "<b>Split into training and test set<b>"
   ]
  },
  {
   "cell_type": "code",
   "execution_count": 24,
   "metadata": {},
   "outputs": [],
   "source": [
    "from sklearn.model_selection import train_test_split"
   ]
  },
  {
   "cell_type": "code",
   "execution_count": 25,
   "metadata": {},
   "outputs": [],
   "source": [
    "X_train, X_test, y_train, y_test = train_test_split(X, y, test_size=0.2, random_state=0)"
   ]
  },
  {
   "cell_type": "markdown",
   "metadata": {},
   "source": [
    "<b>Standardize our feature set first<b>"
   ]
  },
  {
   "cell_type": "code",
   "execution_count": 26,
   "metadata": {},
   "outputs": [],
   "source": [
    "from sklearn.preprocessing import StandardScaler"
   ]
  },
  {
   "cell_type": "code",
   "execution_count": 27,
   "metadata": {},
   "outputs": [],
   "source": [
    "scalar=StandardScaler()"
   ]
  },
  {
   "cell_type": "code",
   "execution_count": 28,
   "metadata": {},
   "outputs": [],
   "source": [
    "X_train = scalar.fit_transform(X_train)\n",
    "X_test = scalar.transform(X_test)"
   ]
  },
  {
   "cell_type": "code",
   "execution_count": 29,
   "metadata": {},
   "outputs": [
    {
     "data": {
      "text/plain": [
       "array([[ 2.58856357e-03,  5.12228609e-01, -4.37594974e-01],\n",
       "       [-1.86117721e+00,  9.17954239e-01,  1.45864991e-01],\n",
       "       [-3.08039065e-01,  7.15091424e-01, -1.02105494e+00],\n",
       "       [-8.25751779e-01,  2.33799395e+00, -4.37594974e-01],\n",
       "       [ 7.27386363e-01, -9.63598373e-02,  1.45864991e+00],\n",
       "       [-6.18666693e-01, -2.99222653e-01,  8.75189949e-01],\n",
       "       [-1.23992195e+00, -7.04948283e-01, -1.45864991e-01],\n",
       "       [ 4.16758735e-01,  5.12228609e-01,  1.31278492e+00],\n",
       "       [ 3.13216192e-01, -5.02085468e-01, -2.91729983e-01],\n",
       "       [-1.03283686e+00, -2.99222653e-01, -1.16691993e+00],\n",
       "       [-1.44700704e+00, -1.11067391e+00, -2.91729983e-01],\n",
       "       [-1.23992195e+00, -7.04948283e-01,  1.31278492e+00],\n",
       "       [-1.55054958e+00, -5.02085468e-01, -1.60451491e+00],\n",
       "       [-4.11581608e-01, -1.31353673e+00, -5.83459966e-01],\n",
       "       [ 9.34471449e-01,  1.52654269e+00, -2.91729983e-01],\n",
       "       [ 3.13216192e-01,  3.09365793e-01,  1.45864991e+00],\n",
       "       [ 1.14155653e+00,  3.09365793e-01,  1.45864991e-01],\n",
       "       [ 3.13216192e-01, -7.04948283e-01,  1.60451491e+00],\n",
       "       [ 5.20301278e-01,  7.15091424e-01,  1.02105494e+00],\n",
       "       [ 1.24509908e+00,  7.15091424e-01, -7.29324957e-01],\n",
       "       [ 6.23843820e-01, -5.02085468e-01,  8.75189949e-01],\n",
       "       [-1.23992195e+00, -1.51639954e+00, -1.89624489e+00],\n",
       "       [ 2.09673649e-01, -9.07811099e-01,  1.45864991e-01],\n",
       "       [ 7.27386363e-01,  2.13513113e+00, -1.16691993e+00],\n",
       "       [ 1.03801399e+00, -1.11067391e+00,  7.29324957e-01],\n",
       "       [ 5.20301278e-01, -2.99222653e-01,  1.31278492e+00],\n",
       "       [ 1.96989688e+00,  1.06502978e-01, -1.45864991e-01],\n",
       "       [-1.65409212e+00,  1.06502978e-01,  1.60451491e+00],\n",
       "       [ 1.55572671e+00,  1.12081705e+00, -1.02105494e+00],\n",
       "       [-8.25751779e-01, -2.99222653e-01, -1.45864991e-01],\n",
       "       [ 1.06131106e-01, -2.99222653e-01,  7.29324957e-01],\n",
       "       [-8.25751779e-01,  9.17954239e-01, -1.31278492e+00],\n",
       "       [ 7.27386363e-01, -9.63598373e-02, -7.29324957e-01],\n",
       "       [-1.03283686e+00, -2.99222653e-01,  7.29324957e-01],\n",
       "       [ 3.13216192e-01,  1.52654269e+00, -1.45864991e+00],\n",
       "       [ 5.20301278e-01,  5.12228609e-01, -7.29324957e-01],\n",
       "       [-1.34346449e+00, -9.07811099e-01,  8.75189949e-01],\n",
       "       [ 8.30928906e-01, -9.63598373e-02, -1.31278492e+00],\n",
       "       [ 1.14155653e+00,  5.12228609e-01, -4.37594974e-01],\n",
       "       [ 1.24509908e+00, -2.93643925e+00,  1.02105494e+00]])"
      ]
     },
     "execution_count": 29,
     "metadata": {},
     "output_type": "execute_result"
    }
   ],
   "source": [
    "X_train"
   ]
  },
  {
   "cell_type": "code",
   "execution_count": 30,
   "metadata": {},
   "outputs": [
    {
     "data": {
      "text/plain": [
       "array([[ 0.41675873, -0.09635984, -0.87518995],\n",
       "       [ 2.38406705,  2.13513113, -0.29172998],\n",
       "       [-1.23992195, -1.11067391,  0.58345997],\n",
       "       [-0.72220924, -0.50208547, -1.7503799 ],\n",
       "       [ 0.41675873, -0.50208547,  1.02105494],\n",
       "       [ 0.62384382,  0.30936579,  1.45864991],\n",
       "       [-0.10095398, -0.09635984,  0.87518995],\n",
       "       [ 0.10613111, -0.29922265, -1.31278492],\n",
       "       [ 0.83092891,  2.74371958, -0.58345997],\n",
       "       [ 0.41675873, -0.50208547,  0.        ],\n",
       "       [ 0.83092891,  0.10650298, -1.16691993]])"
      ]
     },
     "execution_count": 30,
     "metadata": {},
     "output_type": "execute_result"
    }
   ],
   "source": [
    "X_test"
   ]
  },
  {
   "cell_type": "markdown",
   "metadata": {},
   "source": [
    "<b>Applying PCA<b>"
   ]
  },
  {
   "cell_type": "code",
   "execution_count": 31,
   "metadata": {},
   "outputs": [],
   "source": [
    "from sklearn.decomposition import PCA"
   ]
  },
  {
   "cell_type": "code",
   "execution_count": 32,
   "metadata": {},
   "outputs": [
    {
     "data": {
      "text/plain": [
       "PCA()"
      ]
     },
     "execution_count": 32,
     "metadata": {},
     "output_type": "execute_result"
    }
   ],
   "source": [
    "pca = PCA()\n",
    "pca"
   ]
  },
  {
   "cell_type": "markdown",
   "metadata": {},
   "source": [
    "<b>Fit and transform training fetuare set<b>"
   ]
  },
  {
   "cell_type": "code",
   "execution_count": 33,
   "metadata": {},
   "outputs": [],
   "source": [
    "X_train = pca.fit_transform(X_train)"
   ]
  },
  {
   "cell_type": "code",
   "execution_count": 34,
   "metadata": {},
   "outputs": [
    {
     "data": {
      "text/plain": [
       "array([[ 0.64602474,  0.17263965, -0.08198659],\n",
       "       [ 0.03616144,  1.5125764 , -1.42783128],\n",
       "       [ 1.07067316,  0.7085374 ,  0.02075435],\n",
       "       [ 1.72587764,  0.78970898, -1.65447186],\n",
       "       [-0.77925353, -1.32160968, -0.55870162],\n",
       "       [-0.94480018,  0.15010301, -0.56838529],\n",
       "       [-0.77302745,  1.20279862,  0.10648556],\n",
       "       [-0.33735431, -1.01679993, -1.00587286],\n",
       "       [-0.08870637, -0.10734318,  0.64491023],\n",
       "       [ 0.22229959,  1.47704999,  0.53562538],\n",
       "       [-1.0334716 ,  1.47857683,  0.3978433 ],\n",
       "       [-1.69163105,  0.51526164, -0.7941364 ],\n",
       "       [ 0.20278314,  2.15121855,  0.74959966],\n",
       "       [-0.69880364,  0.71750965,  1.10998066],\n",
       "       [ 1.55387094, -0.77807055, -0.51842758],\n",
       "       [-0.60536693, -0.98204137, -0.99528728],\n",
       "       [ 0.45926686, -1.09204852,  0.12899262],\n",
       "       [-1.42930699, -0.9887278 , -0.38603552],\n",
       "       [ 0.02251867, -0.9828048 , -0.92639624],\n",
       "       [ 1.33299722, -0.79545204,  0.42885523],\n",
       "       [-0.73438029, -0.93066917,  0.04205772],\n",
       "       [-0.25636688,  2.07749681,  1.74668307],\n",
       "       [-0.68685565, -0.19767856,  0.61523421],\n",
       "       [ 2.48480829, -0.22059112, -0.47607282],\n",
       "       [-0.96282248, -1.18907032,  0.70856836],\n",
       "       [-0.89328175, -1.05824492, -0.40720667],\n",
       "       [ 0.73446219, -1.67091809,  0.76269995],\n",
       "       [-1.40863329,  0.69249564, -1.69057203],\n",
       "       [ 1.89875878, -0.95606797,  0.44689909],\n",
       "       [-0.36125029,  0.8135765 , -0.01637995],\n",
       "       [-0.64478559, -0.41883492, -0.20381796],\n",
       "       [ 1.25212823,  1.28912535, -0.13505914],\n",
       "       [ 0.59865187, -0.29030421,  0.7922313 ],\n",
       "       [-0.97188509,  0.58325192, -0.63518316],\n",
       "       [ 2.11033591,  0.31855185, -0.03322013],\n",
       "       [ 0.97842705, -0.14534697,  0.29421289],\n",
       "       [-1.59220223,  0.82503499, -0.42330204],\n",
       "       [ 0.99582963, -0.10638822,  1.1916951 ],\n",
       "       [ 0.97312424, -0.82944718,  0.34937861],\n",
       "       [-2.40481402, -1.39705423,  1.86563914]])"
      ]
     },
     "execution_count": 34,
     "metadata": {},
     "output_type": "execute_result"
    }
   ],
   "source": [
    "X_train"
   ]
  },
  {
   "cell_type": "markdown",
   "metadata": {},
   "source": [
    "<b>Transform the test set<b>"
   ]
  },
  {
   "cell_type": "code",
   "execution_count": 35,
   "metadata": {},
   "outputs": [],
   "source": [
    "X_test = pca.transform(X_test)"
   ]
  },
  {
   "cell_type": "code",
   "execution_count": 36,
   "metadata": {},
   "outputs": [
    {
     "data": {
      "text/plain": [
       "array([[ 0.60130327,  0.0517459 ,  0.76464844],\n",
       "       [ 2.40942723, -2.09069415, -0.38900571],\n",
       "       [-1.52516113,  0.88385704, -0.06409984],\n",
       "       [ 0.53253405,  1.49118182,  1.153382  ],\n",
       "       [-0.88571329, -0.81722527, -0.12643451],\n",
       "       [-0.51615797, -1.25533778, -0.87764223],\n",
       "       [-0.64970264, -0.31780446, -0.51217299],\n",
       "       [ 0.64125946,  0.54371685,  1.05705277],\n",
       "       [ 2.58635098, -0.62394507, -1.21669496],\n",
       "       [-0.24269077, -0.33594938,  0.50400086],\n",
       "       [ 1.05038521, -0.18755538,  0.96177012]])"
      ]
     },
     "execution_count": 36,
     "metadata": {},
     "output_type": "execute_result"
    }
   ],
   "source": [
    "X_test"
   ]
  },
  {
   "cell_type": "markdown",
   "metadata": {},
   "source": [
    "<b>find explained variance ratio<b>"
   ]
  },
  {
   "cell_type": "code",
   "execution_count": 37,
   "metadata": {},
   "outputs": [
    {
     "data": {
      "text/plain": [
       "array([0.43561095, 0.34322   , 0.22116905])"
      ]
     },
     "execution_count": 37,
     "metadata": {},
     "output_type": "execute_result"
    }
   ],
   "source": [
    "explained_variance = pca.explained_variance_ratio_\n",
    "explained_variance"
   ]
  },
  {
   "cell_type": "markdown",
   "metadata": {},
   "source": [
    "**Inference:**\n",
    "\n",
    "We got variance ratios for each principal component. It can be derived that first principal component is responsible for 44% of the variance. Similarly, second principal component is responsible for 34% of the variance. Third principal component is responsible for 22% of the variance. Collectively we can see 100% of the classification information is captured by the 3 principal components."
   ]
  },
  {
   "cell_type": "markdown",
   "metadata": {},
   "source": [
    "<b>Using 1 principal component for training fetaure set<b>"
   ]
  },
  {
   "cell_type": "code",
   "execution_count": 38,
   "metadata": {},
   "outputs": [],
   "source": [
    "pca = PCA(n_components=1)\n",
    "x_train = pca.fit_transform(X_train)\n",
    "X_test = pca.transform(X_test)"
   ]
  },
  {
   "cell_type": "code",
   "execution_count": 39,
   "metadata": {},
   "outputs": [
    {
     "data": {
      "text/plain": [
       "array([[ 0.64602474,  0.17263965, -0.08198659],\n",
       "       [ 0.03616144,  1.5125764 , -1.42783128],\n",
       "       [ 1.07067316,  0.7085374 ,  0.02075435],\n",
       "       [ 1.72587764,  0.78970898, -1.65447186],\n",
       "       [-0.77925353, -1.32160968, -0.55870162],\n",
       "       [-0.94480018,  0.15010301, -0.56838529],\n",
       "       [-0.77302745,  1.20279862,  0.10648556],\n",
       "       [-0.33735431, -1.01679993, -1.00587286],\n",
       "       [-0.08870637, -0.10734318,  0.64491023],\n",
       "       [ 0.22229959,  1.47704999,  0.53562538],\n",
       "       [-1.0334716 ,  1.47857683,  0.3978433 ],\n",
       "       [-1.69163105,  0.51526164, -0.7941364 ],\n",
       "       [ 0.20278314,  2.15121855,  0.74959966],\n",
       "       [-0.69880364,  0.71750965,  1.10998066],\n",
       "       [ 1.55387094, -0.77807055, -0.51842758],\n",
       "       [-0.60536693, -0.98204137, -0.99528728],\n",
       "       [ 0.45926686, -1.09204852,  0.12899262],\n",
       "       [-1.42930699, -0.9887278 , -0.38603552],\n",
       "       [ 0.02251867, -0.9828048 , -0.92639624],\n",
       "       [ 1.33299722, -0.79545204,  0.42885523],\n",
       "       [-0.73438029, -0.93066917,  0.04205772],\n",
       "       [-0.25636688,  2.07749681,  1.74668307],\n",
       "       [-0.68685565, -0.19767856,  0.61523421],\n",
       "       [ 2.48480829, -0.22059112, -0.47607282],\n",
       "       [-0.96282248, -1.18907032,  0.70856836],\n",
       "       [-0.89328175, -1.05824492, -0.40720667],\n",
       "       [ 0.73446219, -1.67091809,  0.76269995],\n",
       "       [-1.40863329,  0.69249564, -1.69057203],\n",
       "       [ 1.89875878, -0.95606797,  0.44689909],\n",
       "       [-0.36125029,  0.8135765 , -0.01637995],\n",
       "       [-0.64478559, -0.41883492, -0.20381796],\n",
       "       [ 1.25212823,  1.28912535, -0.13505914],\n",
       "       [ 0.59865187, -0.29030421,  0.7922313 ],\n",
       "       [-0.97188509,  0.58325192, -0.63518316],\n",
       "       [ 2.11033591,  0.31855185, -0.03322013],\n",
       "       [ 0.97842705, -0.14534697,  0.29421289],\n",
       "       [-1.59220223,  0.82503499, -0.42330204],\n",
       "       [ 0.99582963, -0.10638822,  1.1916951 ],\n",
       "       [ 0.97312424, -0.82944718,  0.34937861],\n",
       "       [-2.40481402, -1.39705423,  1.86563914]])"
      ]
     },
     "execution_count": 39,
     "metadata": {},
     "output_type": "execute_result"
    }
   ],
   "source": [
    "X_train"
   ]
  },
  {
   "cell_type": "code",
   "execution_count": 40,
   "metadata": {},
   "outputs": [
    {
     "data": {
      "text/plain": [
       "array([[ 0.60130327],\n",
       "       [ 2.40942723],\n",
       "       [-1.52516113],\n",
       "       [ 0.53253405],\n",
       "       [-0.88571329],\n",
       "       [-0.51615797],\n",
       "       [-0.64970264],\n",
       "       [ 0.64125946],\n",
       "       [ 2.58635098],\n",
       "       [-0.24269077],\n",
       "       [ 1.05038521]])"
      ]
     },
     "execution_count": 40,
     "metadata": {},
     "output_type": "execute_result"
    }
   ],
   "source": [
    "X_test"
   ]
  },
  {
   "cell_type": "markdown",
   "metadata": {},
   "source": [
    "<b>Training and making Predictions<b>"
   ]
  },
  {
   "cell_type": "markdown",
   "metadata": {},
   "source": [
    "Use random forest regressor to predict the test set."
   ]
  },
  {
   "cell_type": "code",
   "execution_count": 45,
   "metadata": {},
   "outputs": [],
   "source": [
    "from sklearn.ensemble import RandomForestRegressor"
   ]
  },
  {
   "cell_type": "code",
   "execution_count": 46,
   "metadata": {},
   "outputs": [
    {
     "data": {
      "text/plain": [
       "RandomForestRegressor(max_depth=2, random_state=0)"
      ]
     },
     "execution_count": 46,
     "metadata": {},
     "output_type": "execute_result"
    }
   ],
   "source": [
    "classifier = RandomForestRegressor(max_depth=2, random_state=0)\n",
    "classifier"
   ]
  },
  {
   "cell_type": "code",
   "execution_count": 83,
   "metadata": {},
   "outputs": [],
   "source": [
    "from sklearn.datasets import make_regression\n",
    "X_train, y_train = make_regression(n_features=1, n_informative=2, random_state=0, shuffle=False)"
   ]
  },
  {
   "cell_type": "code",
   "execution_count": 84,
   "metadata": {},
   "outputs": [
    {
     "data": {
      "text/plain": [
       "RandomForestRegressor(max_depth=2, random_state=0)"
      ]
     },
     "execution_count": 84,
     "metadata": {},
     "output_type": "execute_result"
    }
   ],
   "source": [
    "classifier.fit(X_train, y_train)"
   ]
  },
  {
   "cell_type": "code",
   "execution_count": 85,
   "metadata": {},
   "outputs": [
    {
     "data": {
      "text/plain": [
       "array([ 19.23868468,  64.98597424, -62.23770296,  17.49626384,\n",
       "       -32.07739943, -17.70337928, -24.6346428 ,  19.23868468,\n",
       "        64.98597424, -16.26724311,  48.53225482])"
      ]
     },
     "execution_count": 85,
     "metadata": {},
     "output_type": "execute_result"
    }
   ],
   "source": [
    "prediction = classifier.predict(X_test)\n",
    "prediction"
   ]
  },
  {
   "cell_type": "markdown",
   "metadata": {},
   "source": [
    "<b>Performance Evaluation<b>"
   ]
  },
  {
   "cell_type": "code",
   "execution_count": 87,
   "metadata": {},
   "outputs": [
    {
     "data": {
      "text/plain": [
       "-183.04701674316618"
      ]
     },
     "execution_count": 87,
     "metadata": {},
     "output_type": "execute_result"
    }
   ],
   "source": [
    "from sklearn.metrics import r2_score\n",
    "score = r2_score(y_test, prediction)\n",
    "score"
   ]
  },
  {
   "cell_type": "code",
   "execution_count": 90,
   "metadata": {},
   "outputs": [
    {
     "data": {
      "text/plain": [
       "1565.2210091684935"
      ]
     },
     "execution_count": 90,
     "metadata": {},
     "output_type": "execute_result"
    }
   ],
   "source": [
    "from sklearn.metrics import mean_squared_error\n",
    "mean_squared_error(y_test, prediction)"
   ]
  },
  {
   "cell_type": "markdown",
   "metadata": {},
   "source": [
    "Inference:\n",
    "\n",
    "R2 Score value is negative meaning model fits our data badly. Higher mean squared error means higher the error in the model."
   ]
  },
  {
   "cell_type": "markdown",
   "metadata": {},
   "source": [
    "https://stackabuse.com/implementing-pca-in-python-with-scikit-learn/"
   ]
  },
  {
   "cell_type": "markdown",
   "metadata": {},
   "source": [
    "<b>Results with 2 and 3 Principal Components<b>"
   ]
  },
  {
   "cell_type": "markdown",
   "metadata": {},
   "source": []
  }
 ],
 "metadata": {
  "kernelspec": {
   "display_name": "Python 3.8.8 ('base')",
   "language": "python",
   "name": "python3"
  },
  "language_info": {
   "codemirror_mode": {
    "name": "ipython",
    "version": 3
   },
   "file_extension": ".py",
   "mimetype": "text/x-python",
   "name": "python",
   "nbconvert_exporter": "python",
   "pygments_lexer": "ipython3",
   "version": "3.8.8"
  },
  "orig_nbformat": 4,
  "vscode": {
   "interpreter": {
    "hash": "950b5653ccfc34417735dd321d006fd482b31f7611416c3d8236dc5b17587d3f"
   }
  }
 },
 "nbformat": 4,
 "nbformat_minor": 2
}
